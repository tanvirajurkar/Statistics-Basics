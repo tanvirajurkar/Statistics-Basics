{
 "cells": [
  {
   "cell_type": "markdown",
   "id": "e15fd64b",
   "metadata": {},
   "source": [
    "# Statistics Basics – Assignment"
   ]
  },
  {
   "cell_type": "markdown",
   "id": "c9e6139a",
   "metadata": {},
   "source": [
    "### Question 1\n",
    "**What is the difference between descriptive statistics and inferential statistics? Explain with examples.**"
   ]
  },
  {
   "cell_type": "markdown",
   "id": "38f57edc",
   "metadata": {},
   "source": [
    "\n",
    "**Answer:**  \n",
    "- **Descriptive Statistics** involves summarizing and organizing data so it can be easily understood. It describes the characteristics of a dataset without making conclusions beyond it.  \n",
    "  **Examples:** Mean, Median, Mode, Standard Deviation, Graphs, and Charts.  \n",
    "  **Example:** The average marks of 100 students in a class.  \n",
    "\n",
    "- **Inferential Statistics** involves making predictions or inferences about a population based on a sample of data.  \n",
    "  **Examples:** Hypothesis Testing, Confidence Intervals, Regression Analysis.  \n",
    "  **Example:** Predicting the average height of all students in a college using a sample of 50 students.\n"
   ]
  },
  {
   "cell_type": "markdown",
   "id": "c1e48463",
   "metadata": {},
   "source": [
    "### Question 2\n",
    "**What is sampling in statistics? Explain the differences between random and stratified sampling.**"
   ]
  },
  {
   "cell_type": "markdown",
   "id": "61371cad",
   "metadata": {},
   "source": [
    "\n",
    "**Answer:**  \n",
    "Sampling is the process of selecting a subset (sample) from a large group (population) to draw conclusions about the entire population.  \n",
    "\n",
    "| Type | Description | Example |\n",
    "|------|--------------|----------|\n",
    "| **Random Sampling** | Every member of the population has an equal chance of being selected. | Selecting 50 students randomly from a school of 1000. |\n",
    "| **Stratified Sampling** | The population is divided into groups (strata) based on shared characteristics, and random samples are taken from each group. | Dividing students by department (CS, IT, MECH) and taking samples from each department. |\n"
   ]
  },
  {
   "cell_type": "markdown",
   "id": "34a99790",
   "metadata": {},
   "source": [
    "### Question 3\n",
    "**Define mean, median, and mode. Explain why these measures of central tendency are important.**"
   ]
  },
  {
   "cell_type": "markdown",
   "id": "10358293",
   "metadata": {},
   "source": [
    "\n",
    "**Answer:**  \n",
    "- **Mean:** The arithmetic average of a dataset.  \n",
    "- **Median:** The middle value when data is arranged in order.  \n",
    "- **Mode:** The most frequently occurring value in a dataset.  \n",
    "\n",
    "**Importance:**  \n",
    "These measures help summarize a dataset using a single representative value, showing the central position of data and assisting in comparisons between datasets.\n"
   ]
  },
  {
   "cell_type": "markdown",
   "id": "8fed2df4",
   "metadata": {},
   "source": [
    "### Question 4\n",
    "**Explain skewness and kurtosis. What does a positive skew imply about the data?**"
   ]
  },
  {
   "cell_type": "markdown",
   "id": "909e46b6",
   "metadata": {},
   "source": [
    "\n",
    "**Answer:**  \n",
    "- **Skewness** measures the asymmetry of the data distribution.  \n",
    "  - Positive Skew (Right Skew): Tail extends to the right — mean > median.  \n",
    "  - Negative Skew (Left Skew): Tail extends to the left — mean < median.  \n",
    "\n",
    "- **Kurtosis** measures the “tailedness” or peakness of the data distribution.  \n",
    "  - High Kurtosis: More outliers and sharper peak.  \n",
    "  - Low Kurtosis: Flatter distribution.  \n",
    "\n",
    "**Positive Skew implies:** Most data values are concentrated on the left, but a few large values stretch the tail to the right.\n"
   ]
  },
  {
   "cell_type": "markdown",
   "id": "a762e8d8",
   "metadata": {},
   "source": [
    "### Question 5\n",
    "**Implement a Python program to compute the mean, median, and mode of a given list of numbers.**"
   ]
  },
  {
   "cell_type": "code",
   "execution_count": null,
   "id": "44eedf72",
   "metadata": {},
   "outputs": [
    {
     "name": "stdout",
     "output_type": "stream",
     "text": [
      "Mean: 19.6\n",
      "Median: 19\n",
      "Mode: 12\n"
     ]
    }
   ],
   "source": [
    "import statistics as stats\n",
    "\n",
    "numbers = [12, 15, 12, 18, 19, 12, 20, 22, 19, 19, 24, 24, 24, 26, 28]\n",
    "\n",
    "mean_val = stats.mean(numbers)\n",
    "median_val = stats.median(numbers)\n",
    "mode_val = stats.mode(numbers)\n",
    "\n",
    "print(\"Mean:\", mean_val)\n",
    "print(\"Median:\", median_val)\n",
    "print(\"Mode:\", mode_val)\n"
   ]
  },
  {
   "cell_type": "markdown",
   "id": "8bfb76ec",
   "metadata": {},
   "source": [
    "### Question 6\n",
    "**Compute the covariance and correlation coefficient between the following two datasets provided as lists in Python.**"
   ]
  },
  {
   "cell_type": "code",
   "execution_count": 2,
   "id": "976b4511",
   "metadata": {},
   "outputs": [
    {
     "name": "stdout",
     "output_type": "stream",
     "text": [
      "Covariance: 275.0\n",
      "Correlation Coefficient: 0.995893206467704\n"
     ]
    }
   ],
   "source": [
    "\n",
    "import numpy as np\n",
    "\n",
    "list_x = [10, 20, 30, 40, 50]\n",
    "list_y = [15, 25, 35, 45, 60]\n",
    "\n",
    "# Covariance\n",
    "cov_matrix = np.cov(list_x, list_y, bias=False)\n",
    "covariance = cov_matrix[0][1]\n",
    "\n",
    "# Correlation\n",
    "correlation = np.corrcoef(list_x, list_y)[0][1]\n",
    "\n",
    "print(\"Covariance:\", covariance)\n",
    "print(\"Correlation Coefficient:\", correlation)\n"
   ]
  },
  {
   "cell_type": "markdown",
   "id": "f1eab749",
   "metadata": {},
   "source": [
    "### Question 7\n",
    "**Write a Python script to draw a boxplot for the following numeric list and identify its outliers. Explain the result.**"
   ]
  },
  {
   "cell_type": "code",
   "execution_count": 3,
   "id": "620dee9f",
   "metadata": {},
   "outputs": [
    {
     "data": {
      "image/png": "[encoded data removed]",
      "text/plain": [
       "<Figure size 640x480 with 1 Axes>"
      ]
     },
     "metadata": {},
     "output_type": "display_data"
    }
   ],
   "source": [
    "\n",
    "import matplotlib.pyplot as plt\n",
    "\n",
    "data = [12, 14, 14, 15, 18, 19, 19, 21, 22, 22, 23, 23, 24, 26, 29, 35]\n",
    "\n",
    "plt.boxplot(data)\n",
    "plt.title(\"Boxplot of Data\")\n",
    "plt.ylabel(\"Values\")\n",
    "plt.show()\n"
   ]
  },
  {
   "cell_type": "markdown",
   "id": "953de3ab",
   "metadata": {},
   "source": [
    "\n",
    "**Explanation:**  \n",
    "The boxplot shows the data distribution.  \n",
    "- The box represents the interquartile range (IQR).  \n",
    "- The line inside the box shows the median.  \n",
    "- The whiskers represent data spread.  \n",
    "- Any points outside the whiskers (e.g., 35) are outliers.\n"
   ]
  },
  {
   "cell_type": "markdown",
   "id": "e924588c",
   "metadata": {},
   "source": [
    "### Question 8\n",
    "**Relationship between advertising spend and daily sales.**"
   ]
  },
  {
   "cell_type": "markdown",
   "id": "a1c10e7b",
   "metadata": {},
   "source": [
    "\n",
    "**Answer:**  \n",
    "- **Covariance** tells whether the two variables move together (direction of relationship).  \n",
    "- **Correlation** tells how strong the relationship is and whether it’s positive or negative.  \n",
    "\n",
    "If correlation is positive and strong, it means higher advertising spend leads to higher sales.\n"
   ]
  },
  {
   "cell_type": "code",
   "execution_count": 4,
   "id": "da910c7d",
   "metadata": {},
   "outputs": [
    {
     "name": "stdout",
     "output_type": "stream",
     "text": [
      "Covariance: 84875.0\n",
      "Correlation: 0.9935824101653329\n"
     ]
    }
   ],
   "source": [
    "\n",
    "import numpy as np\n",
    "\n",
    "advertising_spend = [200, 250, 300, 400, 500]\n",
    "daily_sales = [2200, 2450, 2750, 3200, 4000]\n",
    "\n",
    "cov_matrix = np.cov(advertising_spend, daily_sales, bias=False)\n",
    "covariance = cov_matrix[0][1]\n",
    "correlation = np.corrcoef(advertising_spend, daily_sales)[0][1]\n",
    "\n",
    "print(\"Covariance:\", covariance)\n",
    "print(\"Correlation:\", correlation)\n"
   ]
  },
  {
   "cell_type": "markdown",
   "id": "3687c3fa",
   "metadata": {},
   "source": [
    "\n",
    "**Interpretation:**  \n",
    "There is a very strong positive correlation between advertising spend and daily sales — as spending increases, sales also increase.\n"
   ]
  },
  {
   "cell_type": "markdown",
   "id": "2aa35a63",
   "metadata": {},
   "source": [
    "### Question 9\n",
    "**Customer satisfaction survey analysis.**"
   ]
  },
  {
   "cell_type": "markdown",
   "id": "3ddad8ca",
   "metadata": {},
   "source": [
    "\n",
    "**Answer:**  \n",
    "**Summary Statistics:**  \n",
    "- Mean → average satisfaction  \n",
    "- Median → middle score  \n",
    "- Standard Deviation → variation in responses  \n",
    "\n",
    "**Visualizations:**  \n",
    "- Histogram: shows how scores are distributed  \n",
    "- Boxplot: helps identify outliers\n"
   ]
  },
  {
   "cell_type": "code",
   "execution_count": 5,
   "id": "780afe13",
   "metadata": {},
   "outputs": [
    {
     "data": {
      "image/png": "[encoded data removed]",
      "text/plain": [
       "<Figure size 640x480 with 1 Axes>"
      ]
     },
     "metadata": {},
     "output_type": "display_data"
    }
   ],
   "source": [
    "\n",
    "import matplotlib.pyplot as plt\n",
    "\n",
    "survey_scores = [7, 8, 5, 9, 6, 7, 8, 9, 10, 4, 7, 6, 9, 8, 7]\n",
    "\n",
    "plt.hist(survey_scores, bins=6, edgecolor='black')\n",
    "plt.title(\"Histogram of Customer Satisfaction Scores\")\n",
    "plt.xlabel(\"Scores (1-10)\")\n",
    "plt.ylabel(\"Frequency\")\n",
    "plt.show()\n"
   ]
  },
  {
   "cell_type": "markdown",
   "id": "c716e305",
   "metadata": {},
   "source": [
    "\n",
    "**Explanation:**  \n",
    "The histogram shows most scores are between 6 and 9, meaning customers are generally satisfied.  \n",
    "The distribution is slightly right-skewed, indicating a few very high scores.\n"
   ]
  }
 ],
 "metadata": {
  "kernelspec": {
   "display_name": "base",
   "language": "python",
   "name": "python3"
  },
  "language_info": {
   "codemirror_mode": {
    "name": "ipython",
    "version": 3
   },
   "file_extension": ".py",
   "mimetype": "text/x-python",
   "name": "python",
   "nbconvert_exporter": "python",
   "pygments_lexer": "ipython3",
   "version": "3.12.3"
  }
 },
 "nbformat": 4,
 "nbformat_minor": 5
}
